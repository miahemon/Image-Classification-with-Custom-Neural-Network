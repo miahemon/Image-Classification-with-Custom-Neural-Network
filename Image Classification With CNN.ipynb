{
 "cells": [
  {
   "cell_type": "code",
   "execution_count": 1,
   "metadata": {},
   "outputs": [],
   "source": [
    "import tensorflow as tf\n",
    "from tensorflow.keras.preprocessing.image import ImageDataGenerator\n",
    "from tensorflow.keras.models import Sequential\n",
    "from tensorflow.keras.layers import Dense, Conv2D, MaxPooling2D, Flatten, Dropout\n",
    "from tensorflow.keras.callbacks import ModelCheckpoint\n",
    "import os\n",
    "import numpy as np"
   ]
  },
  {
   "cell_type": "code",
   "execution_count": 2,
   "metadata": {},
   "outputs": [],
   "source": [
    "train_datasets = \"./Training/\"\n",
    "validation_datasets = \"./Testing/\""
   ]
  },
  {
   "cell_type": "code",
   "execution_count": 3,
   "metadata": {},
   "outputs": [],
   "source": [
    "batch_size = 64\n",
    "image_size = 224\n",
    "epochs = 5"
   ]
  },
  {
   "cell_type": "code",
   "execution_count": 4,
   "metadata": {},
   "outputs": [],
   "source": [
    "\n",
    "def prepare_the_datasets(train_datasets, validation_datasets, batch_size, image_size):\n",
    "\n",
    "    train_datasets_generator = ImageDataGenerator(rescale=1./255,\n",
    "                                                  shear_range = 0.2, \n",
    "                                                  zoom_range = 0.2, \n",
    "                                                  horizontal_flip = True, \n",
    "                                                  fill_mode = \"nearest\")\n",
    "\n",
    "\n",
    "    validation_datasets_generator = ImageDataGenerator(rescale=1.0/255)\n",
    "\n",
    "\n",
    "    train_datasets_generator_data = train_datasets_generator.flow_from_directory(\n",
    "        batch_size = batch_size,\n",
    "        directory = train_datasets,\n",
    "        shuffle = True,\n",
    "        target_size = (image_size, image_size),\n",
    "        class_mode = \"categorical\"\n",
    "    )\n",
    "\n",
    "    validation_datasets_generator_data = validation_datasets_generator.flow_from_directory(\n",
    "        batch_size = batch_size,\n",
    "        directory = validation_datasets,\n",
    "        shuffle = True,\n",
    "        target_size = (image_size, image_size),\n",
    "        class_mode = \"categorical\"\n",
    "    )\n",
    "\n",
    "\n",
    "    return train_datasets_generator_data, validation_datasets_generator_data"
   ]
  },
  {
   "cell_type": "code",
   "execution_count": 5,
   "metadata": {},
   "outputs": [
    {
     "name": "stdout",
     "output_type": "stream",
     "text": [
      "Found 2870 images belonging to 4 classes.\n",
      "Found 394 images belonging to 4 classes.\n"
     ]
    }
   ],
   "source": [
    "train_data , validation_data = prepare_the_datasets(train_datasets, validation_datasets, batch_size, image_size)"
   ]
  },
  {
   "cell_type": "code",
   "execution_count": 6,
   "metadata": {},
   "outputs": [],
   "source": [
    "model = Sequential([\n",
    "    Conv2D(32, (3, 3), activation = 'relu', input_shape = (image_size, image_size, 3)),\n",
    "    MaxPooling2D(2, 2),\n",
    "\n",
    "    Conv2D(64, (3, 3), activation = 'relu'),\n",
    "    MaxPooling2D(2, 2),\n",
    "\n",
    "    Conv2D(128, (3, 3), activation = 'relu'),\n",
    "    MaxPooling2D(2, 2),\n",
    "\n",
    "    Flatten(),\n",
    "    \n",
    "    Dense(512, activation = \"relu\"),\n",
    "    Dense(4, activation = \"softmax\")\n",
    "])"
   ]
  },
  {
   "cell_type": "code",
   "execution_count": 7,
   "metadata": {},
   "outputs": [],
   "source": [
    "model.compile(optimizer=\"adam\", \n",
    "              loss = \"categorical_crossentropy\",\n",
    "              metrics = [\"accuracy\"]\n",
    "              )"
   ]
  },
  {
   "cell_type": "code",
   "execution_count": 8,
   "metadata": {},
   "outputs": [],
   "source": [
    "model_checkpoint_filpath = \"model_checkpoint.h5\"\n",
    "callbacks_checkpoints = ModelCheckpoint(\n",
    "\n",
    "    filepath = model_checkpoint_filpath, \n",
    "    save_weights_only = True, \n",
    "    monitor = \"val_accuracy\",\n",
    "    mode = \"max\", \n",
    "    save_best_only = True\n",
    ")"
   ]
  },
  {
   "cell_type": "code",
   "execution_count": 9,
   "metadata": {},
   "outputs": [
    {
     "ename": "",
     "evalue": "",
     "output_type": "error",
     "traceback": [
      "\u001b[1;31mThe Kernel crashed while executing code in the the current cell or a previous cell. Please review the code in the cell(s) to identify a possible cause of the failure. Click <a href='https://aka.ms/vscodeJupyterKernelCrash'>here</a> for more info. View Jupyter <a href='command:jupyter.viewOutput'>log</a> for further details."
     ]
    }
   ],
   "source": [
    "history = model.fit(train_data, \n",
    "                    steps_per_epoch = len(train_data),\n",
    "                    epochs = epochs,\n",
    "                    validation_data = validation_data, \n",
    "                    validation_steps = len(validation_data),\n",
    "                    callbacks = [callbacks_checkpoints]\n",
    "                    )"
   ]
  },
  {
   "cell_type": "code",
   "execution_count": null,
   "metadata": {},
   "outputs": [],
   "source": [
    "loss, accuracy =  model.evaluate(validation_datasets_gen_data, batch_size = batch_size)"
   ]
  }
 ],
 "metadata": {
  "kernelspec": {
   "display_name": "Deep",
   "language": "python",
   "name": "python3"
  },
  "language_info": {
   "codemirror_mode": {
    "name": "ipython",
    "version": 3
   },
   "file_extension": ".py",
   "mimetype": "text/x-python",
   "name": "python",
   "nbconvert_exporter": "python",
   "pygments_lexer": "ipython3",
   "version": "3.9.18"
  }
 },
 "nbformat": 4,
 "nbformat_minor": 2
}
